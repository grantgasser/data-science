{
 "cells": [
  {
   "cell_type": "markdown",
   "metadata": {},
   "source": [
    "# Weibull\n",
    "[Wikipedia](https://en.wikipedia.org/wiki/Weibull_distribution)\n",
    "\n",
    "![Weibull PDF](weibull.png)\n",
    "\n",
    "### Parameters\n",
    "- Shape parameter (k): Determines the shape of the failure distribution. A value of k > 1 indicates that the failure rate increases over time (as in our example), while a value of k < 1 indicates that the failure rate decreases over time. A value of k = 1 indicates that the failure rate is constant over time (i.e., the data follows an exponential distribution).\n",
    "\n",
    "- Scale parameter (λ): Determines the scale of the failure distribution. A larger value of λ corresponds to a longer time to failure.\n",
    "\n",
    "- Location parameter: Shifts the distribution along the x-axis, but is not particularly useful in practice for predictive maintenance."
   ]
  },
  {
   "cell_type": "code",
   "execution_count": 6,
   "metadata": {},
   "outputs": [],
   "source": [
    "import pandas as pd\n",
    "import numpy as np\n",
    "import scipy.stats as stats\n",
    "\n",
    "import matplotlib.pyplot as plt"
   ]
  },
  {
   "cell_type": "markdown",
   "metadata": {},
   "source": [
    "`f(t) = e^(.2t) + epsilon`"
   ]
  },
  {
   "cell_type": "code",
   "execution_count": 3,
   "metadata": {},
   "outputs": [
    {
     "data": {
      "text/html": [
       "<div>\n",
       "<style scoped>\n",
       "    .dataframe tbody tr th:only-of-type {\n",
       "        vertical-align: middle;\n",
       "    }\n",
       "\n",
       "    .dataframe tbody tr th {\n",
       "        vertical-align: top;\n",
       "    }\n",
       "\n",
       "    .dataframe thead th {\n",
       "        text-align: right;\n",
       "    }\n",
       "</style>\n",
       "<table border=\"1\" class=\"dataframe\">\n",
       "  <thead>\n",
       "    <tr style=\"text-align: right;\">\n",
       "      <th></th>\n",
       "      <th>time</th>\n",
       "      <th>sensor_value</th>\n",
       "    </tr>\n",
       "  </thead>\n",
       "  <tbody>\n",
       "    <tr>\n",
       "      <th>0</th>\n",
       "      <td>0.0</td>\n",
       "      <td>-0.085631</td>\n",
       "    </tr>\n",
       "    <tr>\n",
       "      <th>1</th>\n",
       "      <td>0.5</td>\n",
       "      <td>2.102516</td>\n",
       "    </tr>\n",
       "    <tr>\n",
       "      <th>2</th>\n",
       "      <td>1.0</td>\n",
       "      <td>1.504381</td>\n",
       "    </tr>\n",
       "    <tr>\n",
       "      <th>3</th>\n",
       "      <td>1.5</td>\n",
       "      <td>-0.156436</td>\n",
       "    </tr>\n",
       "    <tr>\n",
       "      <th>4</th>\n",
       "      <td>2.0</td>\n",
       "      <td>0.913224</td>\n",
       "    </tr>\n",
       "  </tbody>\n",
       "</table>\n",
       "</div>"
      ],
      "text/plain": [
       "   time  sensor_value\n",
       "0   0.0     -0.085631\n",
       "1   0.5      2.102516\n",
       "2   1.0      1.504381\n",
       "3   1.5     -0.156436\n",
       "4   2.0      0.913224"
      ]
     },
     "execution_count": 3,
     "metadata": {},
     "output_type": "execute_result"
    }
   ],
   "source": [
    "# Create dataset\n",
    "np.random.seed(123)\n",
    "time = np.arange(0, 50, 0.5)  # hours (so 1/2 hour increment)\n",
    "sensor_value = np.exp(0.2 * time) + np.random.normal(0, 1, len(time))\n",
    "df = pd.DataFrame({'time': time, 'sensor_value': sensor_value})\n",
    "\n",
    "df.head()"
   ]
  },
  {
   "cell_type": "code",
   "execution_count": 9,
   "metadata": {},
   "outputs": [
    {
     "data": {
      "image/png": "[encoded data removed]",
      "text/plain": [
       "<Figure size 432x288 with 1 Axes>"
      ]
     },
     "metadata": {
      "needs_background": "light"
     },
     "output_type": "display_data"
    }
   ],
   "source": [
    "plt.plot(df['time'], df['sensor_value'])\n",
    "plt.title('Sensor Values over Time')\n",
    "plt.xlabel('Time (hr)')\n",
    "plt.ylabel('Values')\n",
    "plt.show()"
   ]
  },
  {
   "cell_type": "code",
   "execution_count": 4,
   "metadata": {},
   "outputs": [
    {
     "name": "stdout",
     "output_type": "stream",
     "text": [
      "Shape (k): 0.38, Location: -0.60, Scale (λ): 1585.86\n"
     ]
    }
   ],
   "source": [
    "# Fit Weibull\n",
    "shape, loc, scale = stats.weibull_min.fit(df['sensor_value'])\n",
    "print(f\"Shape (k): {shape:.2f}, Location: {loc:.2f}, Scale (λ): {scale:.2f}\")"
   ]
  },
  {
   "cell_type": "markdown",
   "metadata": {},
   "source": [
    "### Visualize Fitted Weibull"
   ]
  },
  {
   "cell_type": "code",
   "execution_count": 16,
   "metadata": {},
   "outputs": [],
   "source": [
    "x = np.linspace(0, 50, 10)\n",
    "\n",
    "pdf = stats.weibull_min.pdf(x, shape, loc, scale)"
   ]
  },
  {
   "cell_type": "code",
   "execution_count": 17,
   "metadata": {},
   "outputs": [
    {
     "data": {
      "image/png": "[encoded data removed]",
      "text/plain": [
       "<Figure size 432x288 with 1 Axes>"
      ]
     },
     "metadata": {
      "needs_background": "light"
     },
     "output_type": "display_data"
    }
   ],
   "source": [
    "plt.plot(x, pdf)\n",
    "plt.xlabel('Sensor value')\n",
    "plt.ylabel('Probability density')\n",
    "plt.title(f'Weibull distribution with k={shape:.2f}, loc={loc:.2f}, scale={scale:.2f}')\n",
    "plt.show()"
   ]
  },
  {
   "cell_type": "markdown",
   "metadata": {},
   "source": [
    "Predict time to failure when the sensor value exceeds the threshold"
   ]
  },
  {
   "cell_type": "code",
   "execution_count": 21,
   "metadata": {},
   "outputs": [
    {
     "name": "stdout",
     "output_type": "stream",
     "text": [
      "Time to failure: 4.65 hours\n"
     ]
    }
   ],
   "source": [
    "thresh = 5000\n",
    "t = -np.log(1 - 0.95) * (thresh / scale)**shape\n",
    "print(f\"Time to failure: {t:.2f} hours\")"
   ]
  },
  {
   "cell_type": "code",
   "execution_count": null,
   "metadata": {},
   "outputs": [],
   "source": []
  }
 ],
 "metadata": {
  "kernelspec": {
   "display_name": "Python 3",
   "language": "python",
   "name": "python3"
  },
  "language_info": {
   "codemirror_mode": {
    "name": "ipython",
    "version": 3
   },
   "file_extension": ".py",
   "mimetype": "text/x-python",
   "name": "python",
   "nbconvert_exporter": "python",
   "pygments_lexer": "ipython3",
   "version": "3.7.3"
  }
 },
 "nbformat": 4,
 "nbformat_minor": 4
}
